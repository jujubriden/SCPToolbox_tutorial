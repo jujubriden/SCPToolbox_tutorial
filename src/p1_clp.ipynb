{
 "cells": [
  {
   "cell_type": "markdown",
   "id": "6ee5dac6",
   "metadata": {
    "slideshow": {
     "slide_type": "slide"
    },
    "tags": []
   },
   "source": [
    "# SCP Toolbox Workshop\n",
    "\n",
    "___A tutorial on generating dynamically feasible trajectories reliably and efficiently___\n",
    "\n",
    "Monday, February 7, 2022\n",
    "\n",
    "Rocky Mountain AAS GN&C Conference, Breckenridge, CO\n",
    "\n",
    "<h2 style=\"color: black;\">\n",
    "    <span style=\"background-color: #ECBE7B; padding: 1px;\">&ensp;Part 1: Conic Linear Programs&ensp;</span>\n",
    "</h2>"
   ]
  },
  {
   "cell_type": "code",
   "execution_count": 3,
   "id": "5369bb3d",
   "metadata": {
    "slideshow": {
     "slide_type": "skip"
    },
    "tags": []
   },
   "outputs": [
    {
     "name": "stderr",
     "output_type": "stream",
     "text": [
      "\u001b[32m\u001b[1m  Activating\u001b[22m\u001b[39m project at `c:\\Users\\julia\\OneDrive - Massachusetts Institute of Technology\\Documents\\Grad School\\NSTGRO\\Solver Development\\SCPToolbox_tutorial`\n",
      "\u001b[32m\u001b[1m   Resolving\u001b[22m\u001b[39m package versions...\n",
      "\u001b[32m\u001b[1m   Installed\u001b[22m\u001b[39m SCS_GPU_jll ────── v3.2.0+0\n",
      "\u001b[32m\u001b[1m   Installed\u001b[22m\u001b[39m OSQP_jll ───────── v0.600.200+0\n",
      "\u001b[32m\u001b[1m   Installed\u001b[22m\u001b[39m DiffRules ──────── v1.11.0\n",
      "\u001b[32m\u001b[1m   Installed\u001b[22m\u001b[39m NaNMath ────────── v1.0.0\n",
      "\u001b[32m\u001b[1m   Installed\u001b[22m\u001b[39m Parsers ────────── v2.3.1\n",
      "\u001b[32m\u001b[1m   Installed\u001b[22m\u001b[39m SCS ────────────── v1.1.1\n",
      "\u001b[32m\u001b[1m   Installed\u001b[22m\u001b[39m StaticArrays ───── v1.4.4\n",
      "\u001b[32m\u001b[1m   Installed\u001b[22m\u001b[39m Tokenize ───────── v0.5.23\n",
      "\u001b[32m\u001b[1m   Installed\u001b[22m\u001b[39m SCS_jll ────────── v3.2.0+0\n",
      "\u001b[32m\u001b[1m   Installed\u001b[22m\u001b[39m LogExpFunctions ── v0.3.14\n",
      "\u001b[32m\u001b[1m   Installed\u001b[22m\u001b[39m OSQP ───────────── v0.8.0\n",
      "\u001b[32m\u001b[1m   Installed\u001b[22m\u001b[39m JuliaFormatter ─── v0.22.10\n",
      "\u001b[32m\u001b[1m   Installed\u001b[22m\u001b[39m ForwardDiff ────── v0.10.27\n",
      "\u001b[32m\u001b[1m   Installed\u001b[22m\u001b[39m CEnum ──────────── v0.4.2\n",
      "\u001b[32m\u001b[1m   Installed\u001b[22m\u001b[39m MathOptInterface ─ v1.2.0\n",
      "\u001b[32m\u001b[1m    Updating\u001b[22m\u001b[39m `C:\\Users\\julia\\OneDrive - Massachusetts Institute of Technology\\Documents\\Grad School\\NSTGRO\\Solver Development\\SCPToolbox_tutorial\\Project.toml`\n",
      " \u001b[90m [5ae59095] \u001b[39m\u001b[92m+ Colors v0.12.8\u001b[39m\n",
      " \u001b[90m [e2685f51] \u001b[39m\u001b[92m+ ECOS v1.1.0\u001b[39m\n",
      " \u001b[90m [b6b21f68] \u001b[39m\u001b[92m+ Ipopt v1.0.2\u001b[39m\n",
      " \u001b[90m [ab2f91bb] \u001b[39m\u001b[92m+ OSQP v0.8.0\u001b[39m\n",
      " \u001b[90m [438e738f] \u001b[39m\u001b[92m+ PyCall v1.93.1\u001b[39m\n",
      " \u001b[90m [d330b81b] \u001b[39m\u001b[92m+ PyPlot v2.10.0\u001b[39m\n",
      " \u001b[90m [bd2bc758] \u001b[39m\u001b[92m+ SCPToolbox v1.0.0 `..\\SCPToolbox.jl`\u001b[39m\n",
      " \u001b[90m [c946c3f1] \u001b[39m\u001b[92m+ SCS v1.1.1\u001b[39m\n",
      "\u001b[32m\u001b[1m    Updating\u001b[22m\u001b[39m `C:\\Users\\julia\\OneDrive - Massachusetts Institute of Technology\\Documents\\Grad School\\NSTGRO\\Solver Development\\SCPToolbox_tutorial\\Manifest.toml`\n",
      " \u001b[90m [6e4b80f9] \u001b[39m\u001b[92m+ BenchmarkTools v1.3.1\u001b[39m\n",
      " \u001b[90m [fa961155] \u001b[39m\u001b[92m+ CEnum v0.4.2\u001b[39m\n",
      " \u001b[90m [00ebfdb7] \u001b[39m\u001b[92m+ CSTParser v3.3.3\u001b[39m\n",
      " \u001b[90m [49dc2e85] \u001b[39m\u001b[92m+ Calculus v0.5.1\u001b[39m\n",
      " \u001b[90m [d360d2e6] \u001b[39m\u001b[92m+ ChainRulesCore v1.14.0\u001b[39m\n",
      " \u001b[90m [9e997f8a] \u001b[39m\u001b[92m+ ChangesOfVariables v0.1.2\u001b[39m\n",
      " \u001b[90m [523fee87] \u001b[39m\u001b[92m+ CodecBzip2 v0.7.2\u001b[39m\n",
      " \u001b[90m [944b1d66] \u001b[39m\u001b[92m+ CodecZlib v0.7.0\u001b[39m\n",
      " \u001b[90m [3da002f7] \u001b[39m\u001b[92m+ ColorTypes v0.11.0\u001b[39m\n",
      " \u001b[90m [5ae59095] \u001b[39m\u001b[92m+ Colors v0.12.8\u001b[39m\n",
      " \u001b[90m [a80b9123] \u001b[39m\u001b[92m+ CommonMark v0.8.6\u001b[39m\n",
      " \u001b[90m [bbf7d656] \u001b[39m\u001b[92m+ CommonSubexpressions v0.3.0\u001b[39m\n",
      " \u001b[90m [34da2185] \u001b[39m\u001b[92m+ Compat v3.43.0\u001b[39m\n",
      " \u001b[90m [8f4d0f93] \u001b[39m\u001b[92m+ Conda v1.7.0\u001b[39m\n",
      " \u001b[90m [a8cc5b0e] \u001b[39m\u001b[92m+ Crayons v4.1.1\u001b[39m\n",
      " \u001b[90m [864edb3b] \u001b[39m\u001b[92m+ DataStructures v0.18.11\u001b[39m\n",
      " \u001b[90m [163ba53b] \u001b[39m\u001b[92m+ DiffResults v1.0.3\u001b[39m\n",
      " \u001b[90m [b552c78f] \u001b[39m\u001b[92m+ DiffRules v1.11.0\u001b[39m\n",
      " \u001b[90m [ffbed154] \u001b[39m\u001b[92m+ DocStringExtensions v0.8.6\u001b[39m\n",
      " \u001b[90m [e2685f51] \u001b[39m\u001b[92m+ ECOS v1.1.0\u001b[39m\n",
      " \u001b[90m [53c48c17] \u001b[39m\u001b[92m+ FixedPointNumbers v0.8.4\u001b[39m\n",
      " \u001b[90m [f6369f11] \u001b[39m\u001b[92m+ ForwardDiff v0.10.27\u001b[39m\n",
      " \u001b[90m [3587e190] \u001b[39m\u001b[92m+ InverseFunctions v0.1.3\u001b[39m\n",
      " \u001b[90m [b6b21f68] \u001b[39m\u001b[92m+ Ipopt v1.0.2\u001b[39m\n",
      " \u001b[90m [92d709cd] \u001b[39m\u001b[92m+ IrrationalConstants v0.1.1\u001b[39m\n",
      " \u001b[90m [692b3bcd] \u001b[39m\u001b[92m+ JLLWrappers v1.4.1\u001b[39m\n",
      " \u001b[90m [682c06a0] \u001b[39m\u001b[92m+ JSON v0.21.3\u001b[39m\n",
      " \u001b[90m [4076af6c] \u001b[39m\u001b[92m+ JuMP v1.0.0\u001b[39m\n",
      " \u001b[90m [98e50ef6] \u001b[39m\u001b[92m+ JuliaFormatter v0.22.10\u001b[39m\n",
      " \u001b[90m [b964fa9f] \u001b[39m\u001b[92m+ LaTeXStrings v1.3.0\u001b[39m\n",
      " \u001b[90m [2ab3a3ac] \u001b[39m\u001b[92m+ LogExpFunctions v0.3.14\u001b[39m\n",
      " \u001b[90m [1914dd2f] \u001b[39m\u001b[92m+ MacroTools v0.5.9\u001b[39m\n",
      " \u001b[90m [b8f27783] \u001b[39m\u001b[92m+ MathOptInterface v1.2.0\u001b[39m\n",
      " \u001b[90m [d8a4904e] \u001b[39m\u001b[92m+ MutableArithmetics v1.0.0\u001b[39m\n",
      " \u001b[90m [77ba4419] \u001b[39m\u001b[92m+ NaNMath v1.0.0\u001b[39m\n",
      " \u001b[90m [ab2f91bb] \u001b[39m\u001b[92m+ OSQP v0.8.0\u001b[39m\n",
      " \u001b[90m [bac558e1] \u001b[39m\u001b[92m+ OrderedCollections v1.4.1\u001b[39m\n",
      " \u001b[90m [69de0a69] \u001b[39m\u001b[92m+ Parsers v2.3.1\u001b[39m\n",
      " \u001b[90m [21216c6a] \u001b[39m\u001b[92m+ Preferences v1.3.0\u001b[39m\n",
      " \u001b[90m [438e738f] \u001b[39m\u001b[92m+ PyCall v1.93.1\u001b[39m\n",
      " \u001b[90m [d330b81b] \u001b[39m\u001b[92m+ PyPlot v2.10.0\u001b[39m\n",
      " \u001b[90m [189a3867] \u001b[39m\u001b[92m+ Reexport v1.2.2\u001b[39m\n",
      " \u001b[90m [ae029012] \u001b[39m\u001b[92m+ Requires v1.3.0\u001b[39m\n",
      " \u001b[90m [bd2bc758] \u001b[39m\u001b[92m+ SCPToolbox v1.0.0 `..\\SCPToolbox.jl`\u001b[39m\n",
      " \u001b[90m [c946c3f1] \u001b[39m\u001b[92m+ SCS v1.1.1\u001b[39m\n",
      " \u001b[90m [276daf66] \u001b[39m\u001b[92m+ SpecialFunctions v2.1.4\u001b[39m\n",
      " \u001b[90m [90137ffa] \u001b[39m\u001b[92m+ StaticArrays v1.4.4\u001b[39m\n",
      " \u001b[90m [0796e94c] \u001b[39m\u001b[92m+ Tokenize v0.5.23\u001b[39m\n",
      " \u001b[90m [3bb67fe8] \u001b[39m\u001b[92m+ TranscodingStreams v0.9.6\u001b[39m\n",
      " \u001b[90m [5c2747f8] \u001b[39m\u001b[92m+ URIs v1.3.0\u001b[39m\n",
      " \u001b[90m [81def892] \u001b[39m\u001b[92m+ VersionParsing v1.3.0\u001b[39m\n",
      " \u001b[90m [ae81ac8f] \u001b[39m\u001b[92m+ ASL_jll v0.1.3+0\u001b[39m\n",
      " \u001b[90m [6e34b625] \u001b[39m\u001b[92m+ Bzip2_jll v1.0.8+0\u001b[39m\n",
      " \u001b[90m [c2c64177] \u001b[39m\u001b[92m+ ECOS_jll v200.0.800+0\u001b[39m\n",
      " \u001b[90m [9cc047cb] \u001b[39m\u001b[92m+ Ipopt_jll v300.1400.400+0\u001b[39m\n",
      " \u001b[90m [d00139f3] \u001b[39m\u001b[92m+ METIS_jll v5.1.1+0\u001b[39m\n",
      " \u001b[90m [d7ed1dd3] \u001b[39m\u001b[92m+ MUMPS_seq_jll v5.4.1+0\u001b[39m\n",
      " \u001b[90m [9c4f68bf] \u001b[39m\u001b[92m+ OSQP_jll v0.600.200+0\u001b[39m\n",
      " \u001b[90m [656ef2d0] \u001b[39m\u001b[92m+ OpenBLAS32_jll v0.3.17+0\u001b[39m\n",
      " \u001b[90m [efe28fd5] \u001b[39m\u001b[92m+ OpenSpecFun_jll v0.5.5+0\u001b[39m\n",
      " \u001b[90m [af6e375f] \u001b[39m\u001b[92m+ SCS_GPU_jll v3.2.0+0\u001b[39m\n",
      " \u001b[90m [f4f2fc5b] \u001b[39m\u001b[92m+ SCS_jll v3.2.0+0\u001b[39m\n",
      " \u001b[90m [0dad84c5] \u001b[39m\u001b[92m+ ArgTools\u001b[39m\n",
      " \u001b[90m [56f22d72] \u001b[39m\u001b[92m+ Artifacts\u001b[39m\n",
      " \u001b[90m [2a0f44e3] \u001b[39m\u001b[92m+ Base64\u001b[39m\n",
      " \u001b[90m [ade2ca70] \u001b[39m\u001b[92m+ Dates\u001b[39m\n",
      " \u001b[90m [8bb1440f] \u001b[39m\u001b[92m+ DelimitedFiles\u001b[39m\n",
      " \u001b[90m [8ba89e20] \u001b[39m\u001b[92m+ Distributed\u001b[39m\n",
      " \u001b[90m [f43a241f] \u001b[39m\u001b[92m+ Downloads\u001b[39m\n",
      " \u001b[90m [b77e0a4c] \u001b[39m\u001b[92m+ InteractiveUtils\u001b[39m\n",
      " \u001b[90m [b27032c2] \u001b[39m\u001b[92m+ LibCURL\u001b[39m\n",
      " \u001b[90m [76f85450] \u001b[39m\u001b[92m+ LibGit2\u001b[39m\n",
      " \u001b[90m [8f399da3] \u001b[39m\u001b[92m+ Libdl\u001b[39m\n",
      " \u001b[90m [37e2e46d] \u001b[39m\u001b[92m+ LinearAlgebra\u001b[39m\n",
      " \u001b[90m [56ddb016] \u001b[39m\u001b[92m+ Logging\u001b[39m\n",
      " \u001b[90m [d6f4376e] \u001b[39m\u001b[92m+ Markdown\u001b[39m\n",
      " \u001b[90m [a63ad114] \u001b[39m\u001b[92m+ Mmap\u001b[39m\n",
      " \u001b[90m [ca575930] \u001b[39m\u001b[92m+ NetworkOptions\u001b[39m\n",
      " \u001b[90m [44cfe95a] \u001b[39m\u001b[92m+ Pkg\u001b[39m\n",
      " \u001b[90m [de0858da] \u001b[39m\u001b[92m+ Printf\u001b[39m\n",
      " \u001b[90m [9abbd945] \u001b[39m\u001b[92m+ Profile\u001b[39m\n",
      " \u001b[90m [3fa0cd96] \u001b[39m\u001b[92m+ REPL\u001b[39m\n",
      " \u001b[90m [9a3f8284] \u001b[39m\u001b[92m+ Random\u001b[39m\n",
      " \u001b[90m [ea8e919c] \u001b[39m\u001b[92m+ SHA\u001b[39m\n",
      " \u001b[90m [9e88b42a] \u001b[39m\u001b[92m+ Serialization\u001b[39m\n",
      " \u001b[90m [1a1011a3] \u001b[39m\u001b[92m+ SharedArrays\u001b[39m\n",
      " \u001b[90m [6462fe0b] \u001b[39m\u001b[92m+ Sockets\u001b[39m\n",
      " \u001b[90m [2f01184e] \u001b[39m\u001b[92m+ SparseArrays\u001b[39m\n",
      " \u001b[90m [10745b16] \u001b[39m\u001b[92m+ Statistics\u001b[39m\n",
      " \u001b[90m [fa267f1f] \u001b[39m\u001b[92m+ TOML\u001b[39m\n",
      " \u001b[90m [a4e569a6] \u001b[39m\u001b[92m+ Tar\u001b[39m\n",
      " \u001b[90m [8dfed614] \u001b[39m\u001b[92m+ Test\u001b[39m\n",
      " \u001b[90m [cf7118a7] \u001b[39m\u001b[92m+ UUIDs\u001b[39m\n",
      " \u001b[90m [4ec0a83e] \u001b[39m\u001b[92m+ Unicode\u001b[39m\n",
      " \u001b[90m [e66e0078] \u001b[39m\u001b[92m+ CompilerSupportLibraries_jll\u001b[39m\n",
      " \u001b[90m [deac9b47] \u001b[39m\u001b[92m+ LibCURL_jll\u001b[39m\n",
      " \u001b[90m [29816b5a] \u001b[39m\u001b[92m+ LibSSH2_jll\u001b[39m\n",
      " \u001b[90m [c8ffd9c3] \u001b[39m\u001b[92m+ MbedTLS_jll\u001b[39m\n",
      " \u001b[90m [14a3606d] \u001b[39m\u001b[92m+ MozillaCACerts_jll\u001b[39m\n",
      " \u001b[90m [4536629a] \u001b[39m\u001b[92m+ OpenBLAS_jll\u001b[39m\n",
      " \u001b[90m [05823500] \u001b[39m\u001b[92m+ OpenLibm_jll\u001b[39m\n",
      " \u001b[90m [83775a58] \u001b[39m\u001b[92m+ Zlib_jll\u001b[39m\n",
      " \u001b[90m [8e850b90] \u001b[39m\u001b[92m+ libblastrampoline_jll\u001b[39m\n",
      " \u001b[90m [8e850ede] \u001b[39m\u001b[92m+ nghttp2_jll\u001b[39m\n",
      " \u001b[90m [3f19e933] \u001b[39m\u001b[92m+ p7zip_jll\u001b[39m\n",
      "\u001b[32m\u001b[1mPrecompiling\u001b[22m\u001b[39m project...\n",
      "\u001b[32m  ✓ \u001b[39m\u001b[90mCEnum\u001b[39m\n",
      "\u001b[32m  ✓ \u001b[39m\u001b[90mNaNMath\u001b[39m\n",
      "\u001b[32m  ✓ \u001b[39m\u001b[90mOSQP_jll\u001b[39m\n",
      "\u001b[32m  ✓ \u001b[39m\u001b[90mLogExpFunctions\u001b[39m\n",
      "\u001b[32m  ✓ \u001b[39m\u001b[90mParsers\u001b[39m\n",
      "\u001b[32m  ✓ \u001b[39m\u001b[90mTokenize\u001b[39m\n",
      "\u001b[32m  ✓ \u001b[39m\u001b[90mSCS_GPU_jll\u001b[39m\n",
      "\u001b[32m  ✓ \u001b[39m\u001b[90mSCS_jll\u001b[39m\n",
      "\u001b[32m  ✓ \u001b[39m\u001b[90mJSON\u001b[39m\n",
      "\u001b[32m  ✓ \u001b[39m\u001b[90mConda\u001b[39m\n",
      "\u001b[32m  ✓ \u001b[39m\u001b[90mBenchmarkTools\u001b[39m\n",
      "\u001b[32m  ✓ \u001b[39m\u001b[90mStaticArrays\u001b[39m\n",
      "\u001b[32m  ✓ \u001b[39m\u001b[90mSpecialFunctions\u001b[39m\n",
      "\u001b[32m  ✓ \u001b[39m\u001b[90mCSTParser\u001b[39m\n",
      "\u001b[32m  ✓ \u001b[39m\u001b[90mCommonMark\u001b[39m\n",
      "\u001b[32m  ✓ \u001b[39m\u001b[90mDiffRules\u001b[39m\n",
      "\u001b[32m  ✓ \u001b[39m\u001b[90mDiffResults\u001b[39m\n",
      "\u001b[32m  ✓ \u001b[39mPyCall\n",
      "\u001b[32m  ✓ \u001b[39m\u001b[90mJuliaFormatter\u001b[39m\n",
      "\u001b[32m  ✓ \u001b[39m\u001b[90mForwardDiff\u001b[39m\n",
      "\u001b[32m  ✓ \u001b[39mPyPlot\n",
      "\u001b[32m  ✓ \u001b[39m\u001b[90mMathOptInterface\u001b[39m\n",
      "\u001b[32m  ✓ \u001b[39mSCS\n",
      "\u001b[32m  ✓ \u001b[39mOSQP\n",
      "\u001b[32m  ✓ \u001b[39mECOS\n",
      "\u001b[32m  ✓ \u001b[39mIpopt\n",
      "\u001b[32m  ✓ \u001b[39m\u001b[90mJuMP\u001b[39m\n",
      "\u001b[32m  ✓ \u001b[39mSCPToolbox\n",
      "\u001b[32m  ✓ \u001b[39mtutorial\n",
      "  29 dependencies successfully precompiled in 89 seconds (41 already precompiled)\n"
     ]
    }
   ],
   "source": [
    "import Pkg\n",
    "Pkg.activate(\"..\")\n",
    "\n",
    "## these lines are required for local installations\n",
    "Pkg.develop(path=\"../../SCPToolbox.jl/\")\n",
    "Pkg.precompile()\n",
    "\n",
    "using SCPToolbox\n",
    "using ECOS\n",
    "# using Ipopt\n",
    "# using SCS\n",
    "# using OSQP"
   ]
  },
  {
   "cell_type": "markdown",
   "id": "fcc148cd",
   "metadata": {
    "slideshow": {
     "slide_type": "slide"
    },
    "tags": []
   },
   "source": [
    "__General form__:"
   ]
  },
  {
   "cell_type": "markdown",
   "id": "c4539786",
   "metadata": {
    "slideshow": {
     "slide_type": "fragment"
    },
    "tags": []
   },
   "source": [
    "\\begin{equation*}\n",
    "\\begin{aligned}\n",
    "\\underset{x\\in\\mathbb{R}^n}{{\\text{minimize}}} &~ c^\\top x \\\\\n",
    "\\text{subject to} &~Ax+b \\in \\mathbb{K}\n",
    "\\end{aligned}\n",
    "\\end{equation*}"
   ]
  },
  {
   "cell_type": "markdown",
   "id": "6ec5c6dd",
   "metadata": {
    "slideshow": {
     "slide_type": "fragment"
    },
    "tags": []
   },
   "source": [
    "where $c\\in\\mathbb{R}^n,~b\\in\\mathbb{R}^m,~A\\in\\mathbb{R}^{m\\times n}$ are problem parameters, and $\\mathbb{K}$ is a cartesian product of convex cones. "
   ]
  },
  {
   "cell_type": "markdown",
   "id": "111a400d",
   "metadata": {
    "slideshow": {
     "slide_type": "slide"
    },
    "tags": []
   },
   "source": [
    "- The optimization problem shown can be solved using state-of-the-art solvers like `ECOS`, `Gurobi` and `Mosek`. "
   ]
  },
  {
   "cell_type": "markdown",
   "id": "deef7e7f",
   "metadata": {
    "slideshow": {
     "slide_type": "fragment"
    }
   },
   "source": [
    "- They typically need a parser to convert the problem data to a canonical form. "
   ]
  },
  {
   "cell_type": "markdown",
   "id": "07f71015",
   "metadata": {
    "slideshow": {
     "slide_type": "fragment"
    }
   },
   "source": [
    "- Such solvers are not user-friendly to interface with."
   ]
  },
  {
   "cell_type": "markdown",
   "id": "558037fe",
   "metadata": {
    "slideshow": {
     "slide_type": "fragment"
    }
   },
   "source": [
    "- In `SCPToolbox.jl`, henceforth referred to as _the toolbox_, a conic linear program is formulated by instantiating a `ConicProblem` object with the choice of solver and its associated options.  "
   ]
  },
  {
   "cell_type": "markdown",
   "id": "7ecad1a5",
   "metadata": {
    "slideshow": {
     "slide_type": "slide"
    }
   },
   "source": [
    "The cones supported by the toolbox are described in the table below:"
   ]
  },
  {
   "cell_type": "markdown",
   "id": "11db3d63",
   "metadata": {
    "slideshow": {
     "slide_type": "fragment"
    },
    "tags": []
   },
   "source": [
    "|    Label        | Notation     |     Name      | Definition |\n",
    "|:---------------:|:----:|:-------------:|:----------:|\n",
    "|`UNCONSTRAINED`  |  $\\mathbb{K}_{ \\lesseqgtr}$ | Unconstrained cone  |  $$\\{x\\in\\mathbb{R}^n\\}$$ |\n",
    "|`ZERO`           |  $\\mathbb{K}_{=0}$ | Zero cone             | $\\{x\\in\\mathbb{R}^n\\mid x=0\\}$                               |\n",
    "|`NONPOS`         |  $\\mathbb{K}_{\\leq 0}$ | Non-positive orthant  | $\\{x\\in\\mathbb{R}^n\\mid x\\leq 0\\}$                           |\n",
    "|`L1`             |  $\\mathbb{K}_{1}$ | $l_1$ norm cone       | $\\{(t,x)\\in\\mathbb{R}\\times\\mathbb{R}^n\\mid \\lVert x\\rVert_1\\leq t\\}$ |\n",
    "|`SOC`             |  $\\mathbb{K}_{2}$ | $l_2$ norm cone       | $\\{(t,x)\\in\\mathbb{R}\\times\\mathbb{R}^n\\mid \\lVert x\\rVert_2\\leq t\\}$ |\n",
    "| `LINF` |  $\\mathbb{K}_{\\infty}$ |  $l_\\infty$ norm cone |  $\\{(t,x)\\in\\mathbb{R}\\times\\mathbb{R}^n\\mid \\lVert x\\rVert_\\infty\\leq t\\}$  |\n",
    "| `GEOM` |  $\\mathbb{K}_{\\text{GM}}$ | Geometric mean cone | $ \\big\\{ (t,x)\\in\\mathbb{R}\\times\\mathbb{R}^n\\mid \\left(\\prod_{i=1}^n x_i\\right)^{1/n} \\geq t \\big\\}$ |\n",
    "| `EXP` |  $\\mathbb{K}_{\\text{EXP}}$ | Exponential cone | $\\{(x,y,z)\\in \\mathbb{R}\\times \\mathbb{R} \\times \\mathbb{R} \\mid y\\,\\text{exp}(x/y) \\leq z,~y>0\\}$ |"
   ]
  },
  {
   "cell_type": "code",
   "execution_count": 4,
   "id": "d3ed7f9b",
   "metadata": {
    "slideshow": {
     "slide_type": "slide"
    },
    "tags": []
   },
   "outputs": [
    {
     "data": {
      "text/plain": [
       "Conic linear program\n",
       "\n",
       "  Feasibility problem\n",
       "  0 variables (0 blocks)\n",
       "  0 parameters (0 blocks)\n",
       "  0 constraints\n",
       "\n",
       "  Variable argument\n",
       "    0 elements\n",
       "    0 blocks\n",
       "\n",
       "\n",
       "  Parameter argument\n",
       "    0 elements\n",
       "    0 blocks\n"
      ]
     },
     "metadata": {},
     "output_type": "display_data"
    }
   ],
   "source": [
    "opts = Dict(\"verbose\" => 0)\n",
    "pbm = ConicProgram(solver = ECOS, solver_options = opts)"
   ]
  },
  {
   "cell_type": "markdown",
   "id": "72c65bd0",
   "metadata": {
    "slideshow": {
     "slide_type": "slide"
    },
    "tags": []
   },
   "source": [
    "## Variables"
   ]
  },
  {
   "cell_type": "markdown",
   "id": "a912fe63",
   "metadata": {
    "slideshow": {
     "slide_type": "skip"
    },
    "tags": []
   },
   "source": [
    "Variables are the quantities that the SCP Toolbox determines values for upon solution. These variables therefore begin as symbolic values during problem formulation, but are ultimately given numerical values upon convergence to a locally optimal trajectory solution. "
   ]
  },
  {
   "cell_type": "markdown",
   "id": "cc7a1263",
   "metadata": {
    "slideshow": {
     "slide_type": "slide"
    },
    "tags": []
   },
   "source": [
    "Variables are generally broken up into three main categories: \n",
    "- **scalars**: variables containing a single element.  *e.g.* $x \\in \\mathbb{R}$.\n",
    "- **vectors**: variables containing a single row or column.  *e.g.* $x \\in \\mathbb{R}^N$.\n",
    "- **matrices**: variables for both rows and columns greater than size two.  *e.g.* $x \\in \\mathbb{R}^{N \\times M}$."
   ]
  },
  {
   "cell_type": "markdown",
   "id": "590aea2b",
   "metadata": {
    "slideshow": {
     "slide_type": "skip"
    },
    "tags": []
   },
   "source": [
    "### Variable Properties"
   ]
  },
  {
   "cell_type": "markdown",
   "id": "3509f0ed",
   "metadata": {
    "slideshow": {
     "slide_type": "skip"
    },
    "tags": []
   },
   "source": [
    "\n",
    "Each variable declared by the user is defined by a set of properties.\n",
    "\n",
    "1. **Elements:** The number of elements in the variable, given as a scalar.\n",
    "2. **Shape:** The tuple defining the dimensions of the variable, given as $(N,M)$ for an $N \\times M$-dimensional matrix.\n",
    "3. **Name:** The title given as a user-defined string.\n",
    "4. **Block index:** The position where the variable is stored in the stack after the parser reformats all variable data into a single vector, where the data within each element of the variable is stored in a corresponding block of elements. Matrices are vectorized in column-major form.\n",
    "5. **Indices:** The elements of the stack where the variable data is stored, making up the block.\n",
    "6. **Type:** Datatype.\n",
    "7. **Scaling Type:** If a variable is scaled, then the physical quantity is nondimensionalized with an affine mapping when exposed to the optimizer.\n",
    "8. **Value Type:** The symbolic or numerical quantity assigned to a given variable."
   ]
  },
  {
   "cell_type": "markdown",
   "id": "11a6d9dd",
   "metadata": {
    "slideshow": {
     "slide_type": "skip"
    },
    "tags": []
   },
   "source": [
    "### Variable Declaration"
   ]
  },
  {
   "cell_type": "markdown",
   "id": "6ec8dce3",
   "metadata": {
    "slideshow": {
     "slide_type": "skip"
    },
    "tags": []
   },
   "source": [
    "At the high level, each variable declaration is done with the `@new_variable()` function. However, this constructor is overloaded such that variables may be declared with a variety of different input-argument syntaxes. Each call to the constructor takes in the corresponding problem that they are associated with alongside other input arguments."
   ]
  },
  {
   "cell_type": "markdown",
   "id": "cabfb78e",
   "metadata": {
    "slideshow": {
     "slide_type": "skip"
    },
    "tags": []
   },
   "source": [
    "A scalar variable may be declared via passing the corresponding problem, a dimension of 1, and a variable name as constructor inputs. Here, scaling is not applied. By default, a scalar variable is treated as a vector variable of length one, so be mindful of the vector-scalar operations."
   ]
  },
  {
   "cell_type": "markdown",
   "id": "d3f78ea1",
   "metadata": {
    "slideshow": {
     "slide_type": "slide"
    },
    "tags": []
   },
   "source": [
    "A scalar quantity may be simply defined as follows, without specifying a dimension."
   ]
  },
  {
   "cell_type": "code",
   "execution_count": 5,
   "id": "02e6ddd1",
   "metadata": {
    "slideshow": {
     "slide_type": "fragment"
    },
    "tags": []
   },
   "outputs": [
    {
     "data": {
      "text/plain": [
       "Vector variable\n",
       "  1 elements\n",
       "  (1,) shape\n",
       "  Name: q\n",
       "  Block index in stack: 1\n",
       "  Indices in stack: 1\n",
       "  Type: Vector{JuMP.AffExpr}\n",
       "  No scaling (x=xh)\n",
       "  Any perturbation allowed\n",
       "  Value =\n",
       "     q"
      ]
     },
     "metadata": {},
     "output_type": "display_data"
    }
   ],
   "source": [
    "q = @new_variable(pbm, \"q\")"
   ]
  },
  {
   "cell_type": "markdown",
   "id": "e645b3cc",
   "metadata": {
    "slideshow": {
     "slide_type": "slide"
    },
    "tags": []
   },
   "source": [
    "A vector variable (with dimension $>1$) may be declared as follows. Note that the value now has multiple elements."
   ]
  },
  {
   "cell_type": "code",
   "execution_count": 6,
   "id": "a46eeaa8",
   "metadata": {
    "slideshow": {
     "slide_type": "fragment"
    },
    "tags": []
   },
   "outputs": [
    {
     "data": {
      "text/plain": [
       "Vector variable\n",
       "  3 elements\n",
       "  (3,) shape\n",
       "  Name: v\n",
       "  Block index in stack: 2\n",
       "  Indices in stack: 2:4\n",
       "  Type: Vector{JuMP.AffExpr}\n",
       "  No scaling (x=xh)\n",
       "  Any perturbation allowed\n",
       "  Value =\n",
       "     v[1]\n",
       "     v[2]\n",
       "     v[3]"
      ]
     },
     "metadata": {},
     "output_type": "display_data"
    }
   ],
   "source": [
    "v = @new_variable(pbm, 3, \"v\")"
   ]
  },
  {
   "cell_type": "markdown",
   "id": "df384074",
   "metadata": {
    "slideshow": {
     "slide_type": "slide"
    },
    "tags": []
   },
   "source": [
    "A matrix variable (with row and column dimensions both $>1$) may be declared as follows."
   ]
  },
  {
   "cell_type": "markdown",
   "id": "39f4dde7",
   "metadata": {
    "slideshow": {
     "slide_type": "skip"
    },
    "tags": []
   },
   "source": [
    "A matrix variable may represent a standard matrix, such as those commonly applied to achieve a linear transformations on a vector. A matrix variable may also represent a set of vectors, such as values of the state or control from a dynamic system, sampled at variable discrete timesteps along a trajectory."
   ]
  },
  {
   "cell_type": "code",
   "execution_count": 7,
   "id": "70dbcfbb",
   "metadata": {
    "slideshow": {
     "slide_type": "fragment"
    },
    "tags": []
   },
   "outputs": [
    {
     "data": {
      "text/plain": [
       "Matrix variable\n",
       "  10 elements\n",
       "  (2, 5) shape\n",
       "  Name: y\n",
       "  Block index in stack: 3\n",
       "  Indices in stack: 5:14\n",
       "  Type: Matrix{JuMP.AffExpr}\n",
       "  No scaling (x=xh)\n",
       "  Any perturbation allowed\n",
       "  Value =\n",
       "     y[1,1]  y[1,2]  y[1,3]  y[1,4]  y[1,5]\n",
       "     y[2,1]  y[2,2]  y[2,3]  y[2,4]  y[2,5]"
      ]
     },
     "metadata": {},
     "output_type": "display_data"
    }
   ],
   "source": [
    "y = @new_variable(pbm, (2, 5), \"y\")"
   ]
  },
  {
   "cell_type": "markdown",
   "id": "eba6f755",
   "metadata": {
    "slideshow": {
     "slide_type": "skip"
    },
    "tags": []
   },
   "source": [
    "Individual row or column vectors of a matrix may be indexed as follows. Note that these indexed quantities are themselves vector variables."
   ]
  },
  {
   "cell_type": "code",
   "execution_count": 8,
   "id": "ac035bbe",
   "metadata": {
    "slideshow": {
     "slide_type": "skip"
    },
    "tags": []
   },
   "outputs": [
    {
     "data": {
      "text/plain": [
       "Vector variable\n",
       "  2 elements\n",
       "  (2,) shape\n",
       "  Name: y\n",
       "  Block index in stack: 3\n",
       "  Indices in stack: 5:6\n",
       "  Type: SubArray{JuMP.AffExpr, 1, Matrix{JuMP.AffExpr}, Tuple{Base.Slice{Base.OneTo{Int64}}, Int64}, true}\n",
       "  No scaling (x=xh)\n",
       "  Any perturbation allowed\n",
       "  Value =\n",
       "     y[1,1]\n",
       "     y[2,1]"
      ]
     },
     "metadata": {},
     "output_type": "display_data"
    }
   ],
   "source": [
    "y[:, 1]"
   ]
  },
  {
   "cell_type": "markdown",
   "id": "e8d4180f",
   "metadata": {
    "slideshow": {
     "slide_type": "skip"
    },
    "tags": []
   },
   "source": [
    "### Variable Operations\n"
   ]
  },
  {
   "cell_type": "markdown",
   "id": "d25e51f5",
   "metadata": {
    "slideshow": {
     "slide_type": "slide"
    },
    "tags": []
   },
   "source": [
    "### Scaling"
   ]
  },
  {
   "cell_type": "markdown",
   "id": "182a5096",
   "metadata": {
    "slideshow": {
     "slide_type": "fragment"
    },
    "tags": []
   },
   "source": [
    "Scaling is an important operation which improves numerical conditioning of the underlying optimization problem by applying an affine mapping to the physical quantity in order to produce a corresponding scaled quantity that lies approximately between $0$ and $1$. "
   ]
  },
  {
   "cell_type": "markdown",
   "id": "ec3977cc",
   "metadata": {
    "slideshow": {
     "slide_type": "skip"
    },
    "tags": []
   },
   "source": [
    "The utility of the affine mapping becomes clear while defining simple set constraints on the value of the variable. Examples of such constraints are a ball, halfspace, or box, etc. This is discussed in more detail in the Constraints section below."
   ]
  },
  {
   "cell_type": "markdown",
   "id": "91827822",
   "metadata": {
    "slideshow": {
     "slide_type": "fragment"
    },
    "tags": []
   },
   "source": [
    "In the scalar case, this affine mapping may be approximated as follows for physical quantity $x$ and scaled quantity $\\hat{x}$: \n",
    "\n",
    "$x = a \\hat{x} + b$, \n",
    "\n",
    "where $a = (x_\\text{max} - x_\\text{min})$ and $b = x_\\text{min}$."
   ]
  },
  {
   "cell_type": "markdown",
   "id": "97ab9159",
   "metadata": {
    "slideshow": {
     "slide_type": "skip"
    },
    "tags": []
   },
   "source": [
    "The affine mapping for scaling a given physical variable is called via the `@scale()` function. This function is given the vector to be scaled, a vector of entries that will linearly scale each element of the variable, and an affine offset, respectively."
   ]
  },
  {
   "cell_type": "code",
   "execution_count": 9,
   "id": "0838a9eb",
   "metadata": {
    "slideshow": {
     "slide_type": "slide"
    },
    "tags": []
   },
   "outputs": [],
   "source": [
    "p = @new_variable(pbm, \"p\")\n",
    "@scale(p, 10, 5);"
   ]
  },
  {
   "cell_type": "markdown",
   "id": "9d265117",
   "metadata": {
    "slideshow": {
     "slide_type": "fragment"
    },
    "tags": []
   },
   "source": [
    "The value of this new affine mapping can be queried with the `value()` function as follows:"
   ]
  },
  {
   "cell_type": "code",
   "execution_count": 10,
   "id": "0880bc5e",
   "metadata": {
    "slideshow": {
     "slide_type": "fragment"
    },
    "tags": []
   },
   "outputs": [
    {
     "data": {
      "text/plain": [
       "1-element Vector{JuMP.AffExpr}:\n",
       " 10 p + 5"
      ]
     },
     "metadata": {},
     "output_type": "display_data"
    }
   ],
   "source": [
    "value(p)"
   ]
  },
  {
   "cell_type": "markdown",
   "id": "667b6b7f",
   "metadata": {
    "slideshow": {
     "slide_type": "slide"
    },
    "tags": []
   },
   "source": [
    "To apply a different scaling to each element of a variable, diagonal entries of a matrix that scales each variable element may be defined. In addition, vector-value affine offsets may also be applied. "
   ]
  },
  {
   "cell_type": "code",
   "execution_count": 11,
   "id": "4633224f",
   "metadata": {
    "slideshow": {
     "slide_type": "fragment"
    },
    "tags": []
   },
   "outputs": [],
   "source": [
    "@scale(y, [2; 4], [3;1])"
   ]
  },
  {
   "cell_type": "code",
   "execution_count": 12,
   "id": "deb12b25",
   "metadata": {
    "slideshow": {
     "slide_type": "skip"
    },
    "tags": []
   },
   "outputs": [
    {
     "data": {
      "text/plain": [
       "Matrix variable\n",
       "  10 elements\n",
       "  (2, 5) shape\n",
       "  Name: y\n",
       "  Block index in stack: 3\n",
       "  Indices in stack: 5:14\n",
       "  Type: Matrix{JuMP.AffExpr}\n",
       "  Affine scaling x=(S.*xh).+c\n",
       "  Any perturbation allowed\n",
       "  Value =\n",
       "     y[1,1]  y[1,2]  y[1,3]  y[1,4]  y[1,5]\n",
       "     y[2,1]  y[2,2]  y[2,3]  y[2,4]  y[2,5]"
      ]
     },
     "metadata": {},
     "output_type": "display_data"
    }
   ],
   "source": [
    "y"
   ]
  },
  {
   "cell_type": "markdown",
   "id": "cd2cf02e",
   "metadata": {
    "slideshow": {
     "slide_type": "skip"
    },
    "tags": []
   },
   "source": [
    "The value of this scaled matrix variable is given below."
   ]
  },
  {
   "cell_type": "code",
   "execution_count": 13,
   "id": "57a9fbc6",
   "metadata": {
    "slideshow": {
     "slide_type": "fragment"
    },
    "tags": []
   },
   "outputs": [
    {
     "data": {
      "text/plain": [
       "2×5 Matrix{JuMP.AffExpr}:\n",
       " 2 y[1,1] + 3  2 y[1,2] + 3  2 y[1,3] + 3  2 y[1,4] + 3  2 y[1,5] + 3\n",
       " 4 y[2,1] + 1  4 y[2,2] + 1  4 y[2,3] + 1  4 y[2,4] + 1  4 y[2,5] + 1"
      ]
     },
     "metadata": {},
     "output_type": "display_data"
    }
   ],
   "source": [
    "value(y)"
   ]
  },
  {
   "cell_type": "markdown",
   "id": "c4d4ecff",
   "metadata": {
    "slideshow": {
     "slide_type": "skip"
    },
    "tags": []
   },
   "source": [
    "The variables created for a given problem are displayed."
   ]
  },
  {
   "cell_type": "code",
   "execution_count": 14,
   "id": "3d3ec969",
   "metadata": {
    "slideshow": {
     "slide_type": "slide"
    },
    "tags": []
   },
   "outputs": [
    {
     "data": {
      "text/plain": [
       "Conic linear program\n",
       "\n",
       "  Feasibility problem\n",
       "  15 variables (4 blocks)\n",
       "  0 parameters (0 blocks)\n",
       "  0 constraints\n",
       "\n",
       "  Variable argument\n",
       "    15 elements\n",
       "    4 blocks\n",
       "     1) 1    ... q\n",
       "     2) 2:4  ... v\n",
       "     3) 5:14 ... y\n",
       "     4) 15   ... p\n",
       "\n",
       "  Parameter argument\n",
       "    0 elements\n",
       "    0 blocks\n"
      ]
     },
     "metadata": {},
     "output_type": "display_data"
    }
   ],
   "source": [
    "pbm"
   ]
  },
  {
   "cell_type": "markdown",
   "id": "389e31df",
   "metadata": {
    "slideshow": {
     "slide_type": "skip"
    },
    "tags": []
   },
   "source": [
    "Finally, the variables of this problem can be queried explicitly."
   ]
  },
  {
   "cell_type": "code",
   "execution_count": 15,
   "id": "b5710800",
   "metadata": {
    "slideshow": {
     "slide_type": "skip"
    },
    "tags": []
   },
   "outputs": [
    {
     "data": {
      "text/plain": [
       "4-element Vector{SCPToolbox.Parser.ConicLinearProgram.VariableArgumentBlock}:\n",
       " Vector variable\n",
       "  1 elements\n",
       "  (1,) shape\n",
       "  Name: q\n",
       "  Block index in stack: 1\n",
       "  Indices in stack: 1\n",
       "  Type: Vector{JuMP.AffExpr}\n",
       "  No scaling (x=xh)\n",
       "  Any perturbation allowed\n",
       "  Value =\n",
       "     q\n",
       " Vector variable\n",
       "  3 elements\n",
       "  (3,) shape\n",
       "  Name: v\n",
       "  Block index in stack: 2\n",
       "  Indices in stack: 2:4\n",
       "  Type: Vector{JuMP.AffExpr}\n",
       "  No scaling (x=xh)\n",
       "  Any perturbation allowed\n",
       "  Value =\n",
       "     v[1]\n",
       "     v[2]\n",
       "     v[3]\n",
       " Matrix variable\n",
       "  10 elements\n",
       "  (2, 5) shape\n",
       "  Name: y\n",
       "  Block index in stack: 3\n",
       "  Indices in stack: 5:14\n",
       "  Type: Matrix{JuMP.AffExpr}\n",
       "  Affine scaling x=(S.*xh).+c\n",
       "  Any perturbation allowed\n",
       "  Value =\n",
       "     y[1,1]  y[1,2]  y[1,3]  y[1,4]  y[1,5]\n",
       "     y[2,1]  y[2,2]  y[2,3]  y[2,4]  y[2,5]\n",
       " Vector variable\n",
       "  1 elements\n",
       "  (1,) shape\n",
       "  Name: p\n",
       "  Block index in stack: 4\n",
       "  Indices in stack: 15\n",
       "  Type: Vector{JuMP.AffExpr}\n",
       "  Affine scaling x=(S.*xh).+c\n",
       "  Any perturbation allowed\n",
       "  Value =\n",
       "     p"
      ]
     },
     "metadata": {},
     "output_type": "display_data"
    }
   ],
   "source": [
    "variables(pbm)"
   ]
  },
  {
   "cell_type": "markdown",
   "id": "fbe54982",
   "metadata": {
    "slideshow": {
     "slide_type": "slide"
    },
    "tags": []
   },
   "source": [
    "## Constraints"
   ]
  },
  {
   "cell_type": "markdown",
   "id": "c3bb584b",
   "metadata": {
    "slideshow": {
     "slide_type": "slide"
    },
    "tags": []
   },
   "source": [
    "A conic constraint $y\\in\\mathbb{K}$ (say for $\\mathbb{K} = \\mathbb{K}_2$) can be modelled in the toolbox as follows:"
   ]
  },
  {
   "cell_type": "code",
   "execution_count": 16,
   "id": "d0ef3662",
   "metadata": {
    "slideshow": {
     "slide_type": "fragment"
    },
    "tags": []
   },
   "outputs": [
    {
     "data": {
      "text/plain": [
       "Name: my-soc\n",
       "Cone f(x,p)∈K, where:\n",
       "K is a second-order cone, {(t, x)∈ℝ×ℝⁿ : ‖x‖₂≤t}\n",
       "f(x,p) = \n",
       "  100 t\n",
       "  x[1]\n",
       "  x[2]\n",
       "  x[3]\n",
       "  x[4]\n",
       "Affine function\n",
       "Arguments:\n",
       "  x (block 1) : 1:4\n",
       "  t (block 2) : 5\n"
      ]
     },
     "metadata": {},
     "output_type": "display_data"
    }
   ],
   "source": [
    "pbm = ConicProgram(solver = ECOS, solver_options = Dict(\"verbose\" => 0))\n",
    "\n",
    "x = @new_variable(pbm, 4, \"x\")\n",
    "t = @new_variable(pbm, \"t\")\n",
    "\n",
    "cstr = @add_constraint(pbm, SOC, \"my-soc\", (x, t) -> vcat(100*t, x))"
   ]
  },
  {
   "cell_type": "code",
   "execution_count": 17,
   "id": "fbfc9eb7",
   "metadata": {
    "slideshow": {
     "slide_type": "skip"
    },
    "tags": []
   },
   "outputs": [
    {
     "data": {
      "text/plain": [
       "true"
      ]
     },
     "metadata": {},
     "output_type": "display_data"
    }
   ],
   "source": [
    "variables(pbm,\"^x\\$\") == x"
   ]
  },
  {
   "cell_type": "markdown",
   "id": "1fdf1418",
   "metadata": {
    "slideshow": {
     "slide_type": "slide"
    },
    "tags": []
   },
   "source": [
    "Note the use of [regular expressions](https://en.wikipedia.org/wiki/Regular_expression) for searching though the list of variables names."
   ]
  },
  {
   "cell_type": "code",
   "execution_count": 18,
   "id": "ca5d13f1",
   "metadata": {
    "slideshow": {
     "slide_type": "fragment"
    },
    "tags": []
   },
   "outputs": [
    {
     "data": {
      "text/plain": [
       "Name: my-soc\n",
       "Cone f(x,p)∈K, where:\n",
       "K is a second-order cone, {(t, x)∈ℝ×ℝⁿ : ‖x‖₂≤t}\n",
       "f(x,p) = \n",
       "  100 t\n",
       "  x[1]\n",
       "  x[2]\n",
       "  x[3]\n",
       "  x[4]\n",
       "Affine function\n",
       "Arguments:\n",
       "  x (block 1) : 1:4\n",
       "  t (block 2) : 5\n"
      ]
     },
     "metadata": {},
     "output_type": "display_data"
    }
   ],
   "source": [
    "constraints(pbm, \"^my-soc\")"
   ]
  },
  {
   "cell_type": "markdown",
   "id": "13af6a85",
   "metadata": {
    "slideshow": {
     "slide_type": "slide"
    },
    "tags": []
   },
   "source": [
    "## Constraint Examples"
   ]
  },
  {
   "cell_type": "markdown",
   "id": "a6e7f6a8",
   "metadata": {
    "slideshow": {
     "slide_type": "fragment"
    },
    "tags": []
   },
   "source": [
    "Many simple constraint sets in trajectory optimization problems like box, ball, halfspace and hyperplane can be represented as conic constraints."
   ]
  },
  {
   "cell_type": "markdown",
   "id": "fc3188a8",
   "metadata": {
    "slideshow": {
     "slide_type": "slide"
    },
    "tags": []
   },
   "source": [
    "### Box"
   ]
  },
  {
   "cell_type": "markdown",
   "id": "096a0e24",
   "metadata": {
    "slideshow": {
     "slide_type": "fragment"
    },
    "tags": []
   },
   "source": [
    "A box with bounds $l,u\\in\\mathbb{R}$ with $l<u$ can be formulated as as non-positive orthant cone:"
   ]
  },
  {
   "cell_type": "markdown",
   "id": "893ea891",
   "metadata": {
    "slideshow": {
     "slide_type": "fragment"
    },
    "tags": []
   },
   "source": [
    "\\begin{equation*}\n",
    "\\{x\\in\\mathbb{R}^n~|~l\\leq x \\leq u\\}\n",
    "\\end{equation*}\n",
    "\n",
    "\\begin{equation*}\n",
    "l\\leq x \\leq u \\iff \\left[ \\begin{array}{c}I\\\\ -I\\end{array}\\right]x + \\left[\\begin{array}{c}-u\\mathbf{1}\\\\ l\\mathbf{1} \\end{array}\\right] \\in \\mathbb{K}_{\\leq 0}\n",
    "\\end{equation*}"
   ]
  },
  {
   "cell_type": "code",
   "execution_count": 17,
   "id": "7a5013cf",
   "metadata": {
    "slideshow": {
     "slide_type": "slide"
    },
    "tags": []
   },
   "outputs": [
    {
     "data": {
      "text/plain": [
       "Name: my-box\n",
       "Cone f(x,p)∈K, where:\n",
       "K is a nonpositive orthant cone, {z : z≤0}\n",
       "f(x,p) = \n",
       "  x[1] - 9\n",
       "  x[2] - 9\n",
       "  -x[1] + 2\n",
       "  -x[2] + 2\n",
       "Affine function\n",
       "Arguments:\n",
       "  x (block 1) : 1:2\n"
      ]
     },
     "execution_count": 17,
     "metadata": {},
     "output_type": "execute_result"
    }
   ],
   "source": [
    "l = 2\n",
    "u = 9\n",
    "\n",
    "A = [1  0; 0 1; -1 0; 0 -1]\n",
    "b = [-u; -u; l; l]\n",
    "\n",
    "pbm = ConicProgram()\n",
    "\n",
    "x = @new_variable(pbm, 2, \"x\")\n",
    "\n",
    "cstr = @add_constraint(pbm, NONPOS, \"my-box\", x -> A*x .+ b)"
   ]
  },
  {
   "cell_type": "markdown",
   "id": "a0c92b0e",
   "metadata": {
    "slideshow": {
     "slide_type": "slide"
    },
    "tags": []
   },
   "source": [
    "### Ball"
   ]
  },
  {
   "cell_type": "markdown",
   "id": "745e95ae",
   "metadata": {
    "slideshow": {
     "slide_type": "fragment"
    },
    "tags": []
   },
   "source": [
    "A ball with radius $r \\in \\mathbb{R}_+$ set can be represented as a $l_2$ norm cone (second-order cone):"
   ]
  },
  {
   "cell_type": "markdown",
   "id": "925bf2bf",
   "metadata": {
    "slideshow": {
     "slide_type": "fragment"
    },
    "tags": []
   },
   "source": [
    "\\begin{equation*}\n",
    "\\{x\\in\\mathbb{R}^n~|~\\|x\\|_2\\leq r\\}\n",
    "\\end{equation*}\n",
    "\n",
    "\\begin{equation*}\n",
    "\\|x\\|_2\\leq r \\iff \\left[ \\begin{array}{c} 0 \\\\ I \\end{array} \\right] x + \\left[ \\begin{array}{c} r \\\\ 0 \\end{array} \\right]\\in \\mathbb{K}_2\n",
    "\\end{equation*}"
   ]
  },
  {
   "cell_type": "code",
   "execution_count": 18,
   "id": "0aff79a2",
   "metadata": {
    "slideshow": {
     "slide_type": "slide"
    },
    "tags": []
   },
   "outputs": [
    {
     "data": {
      "text/plain": [
       "Name: my-ball\n",
       "Cone f(x,p)∈K, where:\n",
       "K is a second-order cone, {(t, x)∈ℝ×ℝⁿ : ‖x‖₂≤t}\n",
       "f(x,p) = \n",
       "  4\n",
       "  x[1]\n",
       "  x[2]\n",
       "Affine function\n",
       "Arguments:\n",
       "  x (block 1) : 1:2\n"
      ]
     },
     "execution_count": 18,
     "metadata": {},
     "output_type": "execute_result"
    }
   ],
   "source": [
    "r = 4\n",
    "\n",
    "A = [0  0; 1 0; 0 1]\n",
    "b = [r;0;0]\n",
    "\n",
    "pbm = ConicProgram()\n",
    "\n",
    "x = @new_variable(pbm, 2, \"x\")\n",
    "\n",
    "cstr = @add_constraint(pbm, SOC, \"my-ball\", x -> A*x .+ b)"
   ]
  },
  {
   "cell_type": "markdown",
   "id": "4adc46cb",
   "metadata": {
    "slideshow": {
     "slide_type": "slide"
    },
    "tags": []
   },
   "source": [
    "### Hyperplane"
   ]
  },
  {
   "cell_type": "markdown",
   "id": "82e62d55",
   "metadata": {
    "slideshow": {
     "slide_type": "fragment"
    },
    "tags": []
   },
   "source": [
    "A hyperplane defined by $a\\in \\mathbb{R}^n$ and $b\\in\\mathbb{R}$ can be represented as a zero cone:"
   ]
  },
  {
   "cell_type": "markdown",
   "id": "74bc84d5",
   "metadata": {
    "slideshow": {
     "slide_type": "fragment"
    },
    "tags": []
   },
   "source": [
    "\\begin{equation*}\n",
    "\\left\\{x\\in\\mathbb{R}^n~|~a^\\top x = b\\right\\}\n",
    "\\end{equation*}\n",
    "\n",
    "\\begin{equation*}\n",
    "a^\\top x = b \\iff \\left[a^\\top\\right]x + (-b) \\in \\mathbb{K}_{=0}\n",
    "\\end{equation*}"
   ]
  },
  {
   "cell_type": "code",
   "execution_count": 19,
   "id": "368a3f0b",
   "metadata": {
    "slideshow": {
     "slide_type": "slide"
    },
    "tags": []
   },
   "outputs": [
    {
     "data": {
      "text/plain": [
       "Name: my-hypln\n",
       "Cone f(x,p)∈K, where:\n",
       "K is a zero cone, {z : z=0}\n",
       "f(x,p) = \n",
       "  1.1 x[1] + 3.2 x[2] - 9\n",
       "Affine function\n",
       "Arguments:\n",
       "  x (block 1) : 1:2\n"
      ]
     },
     "execution_count": 19,
     "metadata": {},
     "output_type": "execute_result"
    }
   ],
   "source": [
    "A = [1.1 3.2]\n",
    "b = -9\n",
    "\n",
    "pbm = ConicProgram()\n",
    "\n",
    "x = @new_variable(pbm, 2, \"x\")\n",
    "\n",
    "cstr = @add_constraint(pbm, ZERO, \"my-hypln\", x -> A*x .+ b)"
   ]
  },
  {
   "cell_type": "markdown",
   "id": "f661c0ee",
   "metadata": {
    "slideshow": {
     "slide_type": "slide"
    },
    "tags": []
   },
   "source": [
    "### Halfspace"
   ]
  },
  {
   "cell_type": "markdown",
   "id": "7a325a92",
   "metadata": {
    "slideshow": {
     "slide_type": "fragment"
    },
    "tags": []
   },
   "source": [
    "A halfspace defined by $a\\in \\mathbb{R}^n$ and $b\\in\\mathbb{R}$ can be represented as a non-positive orthant cone:"
   ]
  },
  {
   "cell_type": "markdown",
   "id": "b97562c5",
   "metadata": {
    "slideshow": {
     "slide_type": "fragment"
    },
    "tags": []
   },
   "source": [
    "\\begin{equation*}\n",
    "\\left\\{x\\in\\mathbb{R}^n~|~a^\\top x \\leq b\\right\\}\n",
    "\\end{equation*}\n",
    "\n",
    "\\begin{equation*}\n",
    "a^\\top x \\leq b \\iff \\left[a^\\top\\right] x + (-b) \\in \\mathbb{K}_{\\leq 0}\n",
    "\\end{equation*}"
   ]
  },
  {
   "cell_type": "code",
   "execution_count": 20,
   "id": "7c1a721d",
   "metadata": {
    "slideshow": {
     "slide_type": "slide"
    },
    "tags": []
   },
   "outputs": [
    {
     "data": {
      "text/plain": [
       "Name: my-hlfspc\n",
       "Cone f(x,p)∈K, where:\n",
       "K is a nonpositive orthant cone, {z : z≤0}\n",
       "f(x,p) = \n",
       "  1.1 x[1] + 3.2 x[2] - 9\n",
       "Affine function\n",
       "Arguments:\n",
       "  x (block 1) : 1:2\n"
      ]
     },
     "execution_count": 20,
     "metadata": {},
     "output_type": "execute_result"
    }
   ],
   "source": [
    "A = [1.1 3.2]\n",
    "b = -9\n",
    "\n",
    "pbm = ConicProgram()\n",
    "\n",
    "x = @new_variable(pbm, 2, \"x\")\n",
    "\n",
    "cstr = @add_constraint(pbm, NONPOS, \"my-hlfspc\", x -> A*x .+ b)"
   ]
  },
  {
   "cell_type": "markdown",
   "id": "9778a295",
   "metadata": {
    "slideshow": {
     "slide_type": "slide"
    },
    "tags": []
   },
   "source": [
    "## Objective function"
   ]
  },
  {
   "cell_type": "markdown",
   "id": "8bb8f03e",
   "metadata": {
    "slideshow": {
     "slide_type": "fragment"
    },
    "tags": []
   },
   "source": [
    " - Regardless of whether optimization problems have constraints, the goal is to maximize or minimize a function i.e. the _objective_ or _cost_ function."
   ]
  },
  {
   "cell_type": "markdown",
   "id": "c4daf467",
   "metadata": {
    "slideshow": {
     "slide_type": "fragment"
    },
    "tags": []
   },
   "source": [
    " - For e.g. propellant consumption and control effort are important metrics for rocket-powered planetary landing missions. We may also want to minimize the total energy to go from one point to another."
   ]
  },
  {
   "cell_type": "markdown",
   "id": "05c6e757",
   "metadata": {
    "slideshow": {
     "slide_type": "fragment"
    },
    "tags": []
   },
   "source": [
    "__Note__: Maximizing a reward is equivalent to minimizing its negative. "
   ]
  },
  {
   "cell_type": "markdown",
   "id": "6a0468e8",
   "metadata": {
    "slideshow": {
     "slide_type": "skip"
    },
    "tags": []
   },
   "source": [
    "Define a scalar variable, `x`. "
   ]
  },
  {
   "cell_type": "markdown",
   "id": "9e7a1c39",
   "metadata": {
    "slideshow": {
     "slide_type": "skip"
    },
    "tags": []
   },
   "source": [
    "Define objective function, which we will henceforth refer to as simply \"cost\"."
   ]
  },
  {
   "cell_type": "markdown",
   "id": "92022a36",
   "metadata": {
    "slideshow": {
     "slide_type": "skip"
    },
    "tags": []
   },
   "source": [
    "By default, the cost is initialized to zero when a new problem is generated. We use the `@add_cost` function to add terms to the cost `obj`."
   ]
  },
  {
   "cell_type": "markdown",
   "id": "d92f5e57",
   "metadata": {
    "slideshow": {
     "slide_type": "skip"
    },
    "tags": []
   },
   "source": [
    " - The first argument indicates the `ConicProgram` instance `pbm` to which a cost term is added.\n",
    "\n",
    " - The second argument defines the cost function mapping in terms of the the input variable."
   ]
  },
  {
   "cell_type": "code",
   "execution_count": 21,
   "id": "6209113b-35b2-4034-92a3-46dae27ca605",
   "metadata": {
    "slideshow": {
     "slide_type": "slide"
    },
    "tags": []
   },
   "outputs": [],
   "source": [
    "my_pars = Dict(\"a\" => 1, \"b\" => 2.5)\n",
    "\n",
    "opts = Dict(\"verbose\" => 0)\n",
    "pbm = ConicProgram(my_pars; solver = ECOS, solver_options = opts)\n",
    "\n",
    "x = @new_variable(pbm, 2, \"x\")\n",
    "t = @new_variable(pbm, \"t\")\n",
    "\n",
    "@add_constraint(pbm, NONPOS, x -> -x*cst[\"b\"])\n",
    "@add_constraint(pbm, SOC, (x,t) -> vcat(t,x))\n",
    "@add_constraint(pbm, NONPOS, (x,t) -> x .- [t;t] .+ cst[\"a\"]*cst[\"b\"])\n",
    "\n",
    "@add_cost(pbm, t -> cst[\"a\"]*t);"
   ]
  },
  {
   "cell_type": "markdown",
   "id": "a7da06e4",
   "metadata": {
    "slideshow": {
     "slide_type": "slide"
    },
    "tags": []
   },
   "source": [
    "## Solve problem"
   ]
  },
  {
   "cell_type": "markdown",
   "id": "4f5056d6",
   "metadata": {
    "slideshow": {
     "slide_type": "fragment"
    },
    "tags": []
   },
   "source": [
    "With everything we have learned so far, we are now ready to solve a convex optimization problem!"
   ]
  },
  {
   "cell_type": "code",
   "execution_count": 22,
   "id": "7df256f8",
   "metadata": {
    "slideshow": {
     "slide_type": "slide"
    },
    "tags": []
   },
   "outputs": [
    {
     "data": {
      "text/plain": [
       "OPTIMAL::TerminationStatusCode = 1"
      ]
     },
     "execution_count": 22,
     "metadata": {},
     "output_type": "execute_result"
    }
   ],
   "source": [
    "exit_status = solve!(pbm)"
   ]
  },
  {
   "cell_type": "markdown",
   "id": "8a0cdcb0",
   "metadata": {
    "slideshow": {
     "slide_type": "slide"
    },
    "tags": []
   },
   "source": [
    "The optimal cost value is `J_opt`."
   ]
  },
  {
   "cell_type": "code",
   "execution_count": 23,
   "id": "bf028940",
   "metadata": {
    "slideshow": {
     "slide_type": "fragment"
    },
    "tags": []
   },
   "outputs": [
    {
     "data": {
      "text/plain": [
       "2.499999998686782"
      ]
     },
     "execution_count": 23,
     "metadata": {},
     "output_type": "execute_result"
    }
   ],
   "source": [
    "J_opt = objective_value(pbm)"
   ]
  },
  {
   "cell_type": "markdown",
   "id": "5727fd1f",
   "metadata": {
    "slideshow": {
     "slide_type": "slide"
    },
    "tags": []
   },
   "source": [
    "The optimal values of the decision variables are `x_opt` and `t_opt`."
   ]
  },
  {
   "cell_type": "code",
   "execution_count": 24,
   "id": "cb9266ce",
   "metadata": {
    "slideshow": {
     "slide_type": "fragment"
    },
    "tags": []
   },
   "outputs": [
    {
     "data": {
      "text/plain": [
       "2-element Vector{Float64}:\n",
       " -5.973286724406856e-10\n",
       " -5.973287215778078e-10"
      ]
     },
     "execution_count": 24,
     "metadata": {},
     "output_type": "execute_result"
    }
   ],
   "source": [
    "x_opt = value(x)"
   ]
  },
  {
   "cell_type": "code",
   "execution_count": 25,
   "id": "c2d7347c",
   "metadata": {
    "slideshow": {
     "slide_type": "fragment"
    },
    "tags": []
   },
   "outputs": [
    {
     "data": {
      "text/plain": [
       "1-element Vector{Float64}:\n",
       " 2.499999998686782"
      ]
     },
     "execution_count": 25,
     "metadata": {},
     "output_type": "execute_result"
    }
   ],
   "source": [
    "t_opt = value(t)"
   ]
  },
  {
   "cell_type": "markdown",
   "id": "1afd3571",
   "metadata": {
    "slideshow": {
     "slide_type": "slide"
    },
    "tags": []
   },
   "source": [
    "The optimal values of the decision variables can also be accessed as mentioned before."
   ]
  },
  {
   "cell_type": "code",
   "execution_count": 26,
   "id": "15dfb6f4",
   "metadata": {
    "slideshow": {
     "slide_type": "fragment"
    },
    "tags": []
   },
   "outputs": [
    {
     "data": {
      "text/plain": [
       "2-element Vector{Float64}:\n",
       " -5.973286724406856e-10\n",
       " -5.973287215778078e-10"
      ]
     },
     "execution_count": 26,
     "metadata": {},
     "output_type": "execute_result"
    }
   ],
   "source": [
    "value(variables(pbm, \"^x\\$\"))"
   ]
  },
  {
   "cell_type": "code",
   "execution_count": 27,
   "id": "761b4a06",
   "metadata": {
    "slideshow": {
     "slide_type": "fragment"
    },
    "tags": []
   },
   "outputs": [
    {
     "data": {
      "text/plain": [
       "1-element Vector{Float64}:\n",
       " 2.499999998686782"
      ]
     },
     "execution_count": 27,
     "metadata": {},
     "output_type": "execute_result"
    }
   ],
   "source": [
    "value(variables(pbm, \"^t\\$\"))"
   ]
  },
  {
   "cell_type": "markdown",
   "id": "3274773a",
   "metadata": {
    "slideshow": {
     "slide_type": "slide"
    },
    "tags": []
   },
   "source": [
    "Congratulations! "
   ]
  },
  {
   "cell_type": "markdown",
   "id": "cf334a53",
   "metadata": {
    "slideshow": {
     "slide_type": "fragment"
    },
    "tags": []
   },
   "source": [
    "We now know how to solve convex optimization problems, which form the basis for Sequential Convex Programming (SCP) problems, which we shall now get into with some exciting examples!"
   ]
  }
 ],
 "metadata": {
  "celltoolbar": "Slideshow",
  "kernelspec": {
   "display_name": "Julia 1.7.1",
   "language": "julia",
   "name": "julia-1.7"
  },
  "language_info": {
   "file_extension": ".jl",
   "mimetype": "application/julia",
   "name": "julia",
   "version": "1.7.1"
  }
 },
 "nbformat": 4,
 "nbformat_minor": 5
}
